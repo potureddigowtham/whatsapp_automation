{
 "cells": [
  {
   "cell_type": "code",
   "execution_count": 7,
   "metadata": {},
   "outputs": [
    {
     "name": "stdout",
     "output_type": "stream",
     "text": [
      "Enter name of person/group you want to send message to:Aditya\n",
      "Enter your message: test123\n",
      "Enter number of times you want your message to be sent: 5\n",
      "//span[contains(@title, \"Aditya\")]\n",
      "<selenium.webdriver.remote.webelement.WebElement (session=\"c65ee546f818b602bce8b38a7359e746\", element=\"0.9908237218915914-1\")>\n"
     ]
    }
   ],
   "source": [
    "from selenium import webdriver\n",
    "from selenium.webdriver.support.ui import WebDriverWait\n",
    "from selenium.webdriver.support import expected_conditions as EC\n",
    "from selenium.webdriver.common.keys import Keys\n",
    "from selenium.webdriver.common.by import By\n",
    "import time\n",
    "\n",
    "target = str(input('Enter name of person/group you want to send message to:'))\n",
    "\n",
    "string = str(input('Enter your message: '))\n",
    "\n",
    "n = int(input('Enter number of times you want your message to be sent: '))\n",
    "\n",
    "driver = webdriver.Chrome()\n",
    " \n",
    "driver.get(\"https://web.whatsapp.com/\")\n",
    "wait = WebDriverWait(driver, 600)\n",
    " \n",
    "x_arg = '//span[contains(@title, '+ '\"' +target + '\"'+ ')]'\n",
    "print(x_arg)\n",
    "person_title = wait.until(EC.presence_of_element_located((\n",
    "    By.XPATH, x_arg)))\n",
    "print(person_title)\n",
    "person_title.click()\n",
    "inp_xpath = '//div[@class=\"_2S1VP copyable-text selectable-text\"]'\n",
    "input_box = wait.until(EC.presence_of_element_located((\n",
    "    By.XPATH, inp_xpath)))\n",
    "\n",
    "for i in range(n):\n",
    "    input_box.send_keys(string + Keys.ENTER)\n",
    "    time.sleep(1)"
   ]
  },
  {
   "cell_type": "code",
   "execution_count": null,
   "metadata": {},
   "outputs": [],
   "source": []
  }
 ],
 "metadata": {
  "kernelspec": {
   "display_name": "Python 3",
   "language": "python",
   "name": "python3"
  },
  "language_info": {
   "codemirror_mode": {
    "name": "ipython",
    "version": 3
   },
   "file_extension": ".py",
   "mimetype": "text/x-python",
   "name": "python",
   "nbconvert_exporter": "python",
   "pygments_lexer": "ipython3",
   "version": "3.7.0"
  }
 },
 "nbformat": 4,
 "nbformat_minor": 2
}
